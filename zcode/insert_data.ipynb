{
 "cells": [
  {
   "cell_type": "code",
   "execution_count": 28,
   "metadata": {},
   "outputs": [],
   "source": [
    "import mysql.connector\n",
    "import base64"
   ]
  },
  {
   "cell_type": "code",
   "execution_count": 29,
   "metadata": {},
   "outputs": [],
   "source": [
    "def image_to_base64(image_path):\n",
    "    with open(image_path, \"rb\") as image_file:\n",
    "        encoded_string = base64.b64encode(image_file.read()).decode('utf-8')\n",
    "    return encoded_string"
   ]
  },
  {
   "cell_type": "code",
   "execution_count": 30,
   "metadata": {},
   "outputs": [],
   "source": [
    "db = mysql.connector.connect(\n",
    "    host='siam.cr8wqequ6ieo.ap-southeast-2.rds.amazonaws.com',\n",
    "    port=3306,\n",
    "    user='admin',\n",
    "    password='1234567890',\n",
    "    database='siam'\n",
    ")"
   ]
  },
  {
   "cell_type": "code",
   "execution_count": 31,
   "metadata": {},
   "outputs": [],
   "source": [
    "cursor = db.cursor()\n",
    "sql = '''\n",
    "    INSERT INTO siam.app_classroom_student (room,date,image)\n",
    "    VALUES (%s, %s, %s)\n",
    "'''"
   ]
  },
  {
   "cell_type": "code",
   "execution_count": 32,
   "metadata": {},
   "outputs": [],
   "source": [
    "# room  = '1'\n",
    "# date  = '2024-08-01 11:46:47'\n",
    "# image = image_to_base64(r\"K:\\My Drive\\Siam\\Video_2_image_and_database\\Source_video_from_siam\\00000003034000000\\114647.png\")"
   ]
  },
  {
   "cell_type": "code",
   "execution_count": 33,
   "metadata": {},
   "outputs": [],
   "source": [
    "# values = (room, date, image)\n",
    "\n",
    "# cursor.execute(sql, values)\n",
    "\n",
    "# db.commit()\n",
    "\n",
    "# cursor.close()\n",
    "# db.close()\n",
    "# print(\"done!\")"
   ]
  },
  {
   "cell_type": "code",
   "execution_count": 34,
   "metadata": {},
   "outputs": [],
   "source": [
    "room = '1'\n",
    "date_date = \"2024-08-01\""
   ]
  },
  {
   "cell_type": "code",
   "execution_count": 35,
   "metadata": {},
   "outputs": [
    {
     "name": "stdout",
     "output_type": "stream",
     "text": [
      "done!\n"
     ]
    }
   ],
   "source": [
    "import os\n",
    "folder_image_path = r\"K:\\My Drive\\Siam\\Video_2_image_and_database\\Source_video_from_siam\\00000003034000000\"\n",
    "for image in os.listdir(folder_image_path):\n",
    "    if image[-3:] == \"png\":\n",
    "        image_date = image[:-4]\n",
    "        # print(image_date)\n",
    "        time_date = f\"{image_date[0:2]}:{image_date[2:4]}:{image_date[4:6]}\"\n",
    "        date = f\"{date_date} {time_date}\"\n",
    "        image_path = os.path.join(folder_image_path,image)\n",
    "        image = image_to_base64(image_path)\n",
    "\n",
    "        values = (room, date, image)\n",
    "        cursor.execute(sql, values)\n",
    "        db.commit()\n",
    "cursor.close()\n",
    "db.close()\n",
    "print(\"done!\")"
   ]
  }
 ],
 "metadata": {
  "kernelspec": {
   "display_name": "base",
   "language": "python",
   "name": "python3"
  },
  "language_info": {
   "codemirror_mode": {
    "name": "ipython",
    "version": 3
   },
   "file_extension": ".py",
   "mimetype": "text/x-python",
   "name": "python",
   "nbconvert_exporter": "python",
   "pygments_lexer": "ipython3",
   "version": "3.11.5"
  }
 },
 "nbformat": 4,
 "nbformat_minor": 2
}
